{
 "cells": [
  {
   "cell_type": "code",
   "execution_count": 24,
   "metadata": {},
   "outputs": [
    {
     "name": "stdout",
     "output_type": "stream",
     "text": [
      "[('52833', 'Salted Caramel Cheescake', 'Dessert'), ('52917', 'White chocolate creme brulee', 'Dessert'), ('53019', 'Pierogi (Polish Dumplings)', 'Side'), ('52924', 'Nanaimo Bars', 'Dessert'), ('52981', 'Snert (Dutch Split Pea Soup)', 'Side'), ('52861', 'Peanut Butter Cheesecake', 'Dessert'), ('52775', 'Vegan Lasagna', 'Vegan'), ('52852', 'Tuna Nicoise', 'Seafood'), ('52913', 'Brie wrapped in prosciutto & brioche', 'Side'), ('52850', 'Chicken Couscous', 'Chicken'), ('52897', 'Carrot Cake', 'Dessert'), ('52950', 'Szechuan Beef', 'Beef'), ('52906', 'Flamiche', 'Vegetarian'), ('52844', 'Lasagne', 'Pasta'), ('52967', 'Home-made Mandazi', 'Breakfast')]\n"
     ]
    }
   ],
   "source": [
    "\n"
   ]
  },
  {
   "cell_type": "code",
   "execution_count": 16,
   "metadata": {},
   "outputs": [
    {
     "name": "stdout",
     "output_type": "stream",
     "text": [
      "Weekly menu with 5 unique vegetarian meals:\n",
      "Meal ID: 52906, Meal Name: Flamiche\n",
      "Meal ID: 52864, Meal Name: Mushroom & Chestnut Rotolo\n",
      "Meal ID: 53077, Meal Name: Cabbage Soup (Shchi)\n",
      "Meal ID: 52868, Meal Name: Kidney Bean Curry\n",
      "Meal ID: 52817, Meal Name: Stovetop Eggplant With Harissa, Chickpeas, and Cumin Yogurt\n"
     ]
    }
   ],
   "source": [
    "import requests\n",
    "import json\n",
    "import random\n",
    "\n",
    "weekly_menu = []\n",
    "\n",
    "# Initialize a list for the weekly menu\n",
    "veg_menu = []\n",
    "\n",
    "# Create a set to track unique meal identifiers\n",
    "meal_ids_set = set()\n",
    "\n",
    "# Define the function to look up vegetarian meals\n",
    "def meal_lookup_veg():\n",
    "    url = 'https://www.themealdb.com/api/json/v1/1/filter.php?c=vegetarian'\n",
    "    \n",
    "    response = requests.get(url)\n",
    "    data = response.json()\n",
    "    meals_list = data.get('meals', [])\n",
    "    \n",
    "    if not meals_list:\n",
    "        # If there are no meals in the response, return None\n",
    "        return None\n",
    "    \n",
    "    # Choose a random index from the list of meals\n",
    "    i = random.randint(0, len(meals_list) - 1)\n",
    "    \n",
    "    # Get meal information from the random index\n",
    "    meal_id = meals_list[i]['idMeal']\n",
    "    meal_name = meals_list[i]['strMeal']\n",
    "    \n",
    "    # Return the meal information as a tuple\n",
    "    return (meal_id, meal_name)\n",
    "\n",
    "# Continue adding meals until we have 5 unique meals in the weekly menu\n",
    "while len(veg_menu) < 5:\n",
    "    new_meal = meal_lookup_veg()\n",
    "    \n",
    "    if new_meal is None:\n",
    "        continue\n",
    "    \n",
    "    # Unpack the meal information\n",
    "    meal_id, meal_name = new_meal\n",
    "    \n",
    "    # Check if the meal ID is already in the set\n",
    "    if meal_id not in meal_ids_set:\n",
    "        # If the meal ID is unique, add it to the set and the weekly menu\n",
    "        meal_ids_set.add(meal_id)\n",
    "        veg_menu.append(new_meal)\n",
    "\n",
    "weekly_menu.append(veg_menu)\n",
    "# Print the weekly menu with 5 unique meals\n",
    "print(\"Weekly menu with 5 unique vegetarian meals:\")\n",
    "for meal_id, meal_name in veg_menu:\n",
    "    print(f\"Meal ID: {meal_id}, Meal Name: {meal_name}\")\n",
    "\n",
    "\n",
    "\n",
    "\n",
    "def meal_lookup():\n",
    "    url_ch = 'https://www.themealdb.com/api/json/v1/1/filter.php?c=chicken'\n",
    "    url_pa = 'https://www.themealdb.com/api/json/v1/1/filter.php?c=pasta'\n",
    "    url_be = 'https://www.themealdb.com/api/json/v1/1/filter.php?c=beef'\n",
    "    url_se = 'https://www.themealdb.com/api/json/v1/1/filter.php?c=seafood'\n",
    "    url_po = 'https://www.themealdb.com/api/json/v1/1/filter.php?c=pork'\n",
    "\n",
    "    #Chicken\n",
    "    response_ch = requests.get(url_ch)\n",
    "    data_ch = response_ch.json()\n",
    "    meals_list_ch = data_ch.get('meals', [])\n",
    "    i = random.randint(0, len(meals_list_ch) - 1)\n",
    "    meal_id_ch = meals_list_ch[i]['idMeal']\n",
    "    meal_name_ch = meals_list_ch[i]['strMeal']\n",
    "    meal_ch = (meal_id_ch, meal_name_ch)\n",
    "\n",
    "    #Pasta\n",
    "    response_pa = requests.get(url_pa)\n",
    "    data_pa = response_pa.json()\n",
    "    meals_list_pa = data_pa.get('meals', [])\n",
    "    i = random.randint(0, len(meals_list_pa) - 1)\n",
    "    meal_id_pa = meals_list_pa[i]['idMeal']\n",
    "    meal_name_pa = meals_list_pa[i]['strMeal']\n",
    "    meal_pa = (meal_id_pa, meal_name_pa)\n",
    "\n",
    "    #Beef\n",
    "    response_be = requests.get(url_be)\n",
    "    data_be = response_be.json()\n",
    "    meals_list_be = data_be.get('meals', [])\n",
    "    i = random.randint(0, len(meals_list_be) - 1)\n",
    "    meal_id_be = meals_list_be[i]['idMeal']\n",
    "    meal_name_be = meals_list_be[i]['strMeal']\n",
    "    meal_be = (meal_id_be, meal_name_be)\n",
    "\n",
    "    #Seafood\n",
    "    response_se = requests.get(url_se)\n",
    "    data_se = response_se.json()\n",
    "    meals_list_se = data_se.get('meals', [])\n",
    "    i = random.randint(0, len(meals_list_se) - 1)\n",
    "    meal_id_se = meals_list_se[i]['idMeal']\n",
    "    meal_name_se = meals_list_se[i]['strMeal']\n",
    "    meal_se = (meal_id_se, meal_name_se)\n",
    "\n",
    "    #Pork\n",
    "    response_po = requests.get(url_po)\n",
    "    data_po = response_po.json()\n",
    "    meals_list_po = data_po.get('meals', [])\n",
    "    i = random.randint(0, len(meals_list_po) - 1)\n",
    "    meal_id_po = meals_list_po[i]['idMeal']\n",
    "    meal_name_po = meals_list_po[i]['strMeal']\n",
    "    meal_po = (meal_id_po, meal_name_po)\n",
    "    \n",
    "    # Return the meal information as a tuple\n",
    "    return [meal_ch, meal_pa, meal_be, meal_se, meal_po]\n",
    "\n",
    "weekly_menu.append(meal_lookup())\n",
    "\n",
    "weekly_menu\n"
   ]
  },
  {
   "cell_type": "code",
   "execution_count": null,
   "metadata": {},
   "outputs": [],
   "source": []
  },
  {
   "cell_type": "code",
   "execution_count": 17,
   "metadata": {},
   "outputs": [
    {
     "data": {
      "text/plain": [
       "[[('52906', 'Flamiche'),\n",
       "  ('52864', 'Mushroom & Chestnut Rotolo'),\n",
       "  ('53077', 'Cabbage Soup (Shchi)'),\n",
       "  ('52868', 'Kidney Bean Curry'),\n",
       "  ('52817', 'Stovetop Eggplant With Harissa, Chickpeas, and Cumin Yogurt')],\n",
       " [('52940', 'Brown Stew Chicken'),\n",
       "  ('53064', 'Fettuccine Alfredo'),\n",
       "  ('52930', 'Pate Chinois'),\n",
       "  ('52777', 'Mediterranean Pasta Salad'),\n",
       "  ('52995', 'BBQ Pork Sloppy Joes')]]"
      ]
     },
     "execution_count": 17,
     "metadata": {},
     "output_type": "execute_result"
    }
   ],
   "source": []
  },
  {
   "cell_type": "code",
   "execution_count": null,
   "metadata": {},
   "outputs": [],
   "source": []
  }
 ],
 "metadata": {
  "colab": {
   "collapsed_sections": [],
   "name": "Assignment_6_solution.ipynb",
   "provenance": []
  },
  "kernelspec": {
   "display_name": "Python 3 (ipykernel)",
   "language": "python",
   "name": "python3"
  },
  "language_info": {
   "codemirror_mode": {
    "name": "ipython",
    "version": 3
   },
   "file_extension": ".py",
   "mimetype": "text/x-python",
   "name": "python",
   "nbconvert_exporter": "python",
   "pygments_lexer": "ipython3",
   "version": "3.11.5"
  },
  "vscode": {
   "interpreter": {
    "hash": "308bf71e532693dd7977217f267894072a5c196c2c65186b0c51db5bdbf327c1"
   }
  }
 },
 "nbformat": 4,
 "nbformat_minor": 4
}
