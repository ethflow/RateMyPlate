{
 "cells": [
  {
   "cell_type": "code",
   "execution_count": 24,
   "metadata": {},
   "outputs": [
    {
     "name": "stdout",
     "output_type": "stream",
     "text": [
      "[('52833', 'Salted Caramel Cheescake', 'Dessert'), ('52917', 'White chocolate creme brulee', 'Dessert'), ('53019', 'Pierogi (Polish Dumplings)', 'Side'), ('52924', 'Nanaimo Bars', 'Dessert'), ('52981', 'Snert (Dutch Split Pea Soup)', 'Side'), ('52861', 'Peanut Butter Cheesecake', 'Dessert'), ('52775', 'Vegan Lasagna', 'Vegan'), ('52852', 'Tuna Nicoise', 'Seafood'), ('52913', 'Brie wrapped in prosciutto & brioche', 'Side'), ('52850', 'Chicken Couscous', 'Chicken'), ('52897', 'Carrot Cake', 'Dessert'), ('52950', 'Szechuan Beef', 'Beef'), ('52906', 'Flamiche', 'Vegetarian'), ('52844', 'Lasagne', 'Pasta'), ('52967', 'Home-made Mandazi', 'Breakfast')]\n"
     ]
    }
   ],
   "source": [
    "import requests\n",
    "import json\n",
    "import pandas as pd\n",
    "\n",
    "\n",
    "weekly_menu = []\n",
    "\n",
    "def meal_lookup():\n",
    "    url = 'https://www.themealdb.com/api/json/v1/1/random.php'\n",
    "    \n",
    "    response = requests.get(url)\n",
    "    meal= response.json()\n",
    "    meal_id = meal['meals'][0]['idMeal']\n",
    "    meal_name = meal['meals'][0]['strMeal']\n",
    "    meal_category = meal['meals'][0]['strCategory']\n",
    "    new_meal = (meal_id, meal_name, meal_category)\n",
    "    return new_meal\n",
    "\n",
    "for i in range(15):\n",
    "    weekly_menu.append(meal_lookup())\n",
    "\n",
    "print(weekly_menu)\n",
    "\n"
   ]
  },
  {
   "cell_type": "code",
   "execution_count": null,
   "metadata": {},
   "outputs": [],
   "source": [
    "import requests\n",
    "import json\n",
    "import pandas as pd\n"
   ]
  },
  {
   "cell_type": "code",
   "execution_count": null,
   "metadata": {},
   "outputs": [],
   "source": []
  }
 ],
 "metadata": {
  "colab": {
   "collapsed_sections": [],
   "name": "Assignment_6_solution.ipynb",
   "provenance": []
  },
  "kernelspec": {
   "display_name": "Python 3 (ipykernel)",
   "language": "python",
   "name": "python3"
  },
  "language_info": {
   "codemirror_mode": {
    "name": "ipython",
    "version": 3
   },
   "file_extension": ".py",
   "mimetype": "text/x-python",
   "name": "python",
   "nbconvert_exporter": "python",
   "pygments_lexer": "ipython3",
   "version": "3.11.5"
  },
  "vscode": {
   "interpreter": {
    "hash": "308bf71e532693dd7977217f267894072a5c196c2c65186b0c51db5bdbf327c1"
   }
  }
 },
 "nbformat": 4,
 "nbformat_minor": 4
}
