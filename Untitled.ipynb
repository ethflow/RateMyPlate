{
 "cells": [
  {
   "cell_type": "code",
   "execution_count": null,
   "id": "efd829a1",
   "metadata": {},
   "outputs": [],
   "source": [
    "import requests\n",
    "import json\n",
    "\n",
    "def fetch_all_meals():\n",
    "    # Base URL for fetching meals by first letter\n",
    "    base_url = \"https://www.themealdb.com/api/json/v1/1/search.php?f={}\"\n",
    "    all_meals = []  # List to store all meals\n",
    "\n",
    "    # Loop through each letter in the alphabet\n",
    "    for letter in 'abcdefghijklmnopqrstuvwxyz':\n",
    "        # Format the URL with the current letter\n",
    "        url = base_url.format(letter)\n",
    "\n",
    "        # Send GET request to the API\n",
    "        response = requests.get(url)\n",
    "\n",
    "        # Parse JSON response\n",
    "        data = response.json()\n",
    "\n",
    "        # Check if there are any meals for the letter\n",
    "        if data['meals'] is not None:\n",
    "            # Add meals to the list\n",
    "            all_meals.extend(meal['strMeal'] for meal in data['meals'])\n",
    "\n",
    "    # Print all collected meals\n",
    "    print(\"All meals collected from the API:\")\n",
    "    for meal in all_meals:\n",
    "        print(meal)\n",
    "    \n",
    "    print(all_meals.length)\n",
    "\n",
    "fetch_all_meals()\n",
    "\n"
   ]
  },
  {
   "cell_type": "code",
   "execution_count": null,
   "id": "d9e733e7",
   "metadata": {},
   "outputs": [],
   "source": []
  },
  {
   "cell_type": "code",
   "execution_count": null,
   "id": "888756c9",
   "metadata": {},
   "outputs": [],
   "source": []
  }
 ],
 "metadata": {
  "kernelspec": {
   "display_name": "Python 3 (ipykernel)",
   "language": "python",
   "name": "python3"
  },
  "language_info": {
   "codemirror_mode": {
    "name": "ipython",
    "version": 3
   },
   "file_extension": ".py",
   "mimetype": "text/x-python",
   "name": "python",
   "nbconvert_exporter": "python",
   "pygments_lexer": "ipython3",
   "version": "3.11.5"
  }
 },
 "nbformat": 4,
 "nbformat_minor": 5
}
